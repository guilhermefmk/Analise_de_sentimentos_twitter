{
 "cells": [
  {
   "cell_type": "code",
   "execution_count": 2,
   "metadata": {},
   "outputs": [],
   "source": [
    "from pyspark.sql import SparkSession\n",
    "from pyspark.sql.types import *\n",
    "from pyspark.sql.functions import *\n",
    "from datetime import datetime"
   ]
  },
  {
   "cell_type": "code",
   "execution_count": 9,
   "metadata": {},
   "outputs": [
    {
     "name": "stderr",
     "output_type": "stream",
     "text": [
      "Setting default log level to \"WARN\".\n",
      "To adjust logging level use sc.setLogLevel(newLevel). For SparkR, use setLogLevel(newLevel).\n"
     ]
    },
    {
     "name": "stdout",
     "output_type": "stream",
     "text": [
      "22/12/08 08:19:38 WARN NativeCodeLoader: Unable to load native-hadoop library for your platform... using builtin-java classes where applicable\n",
      "22/12/08 08:19:39 WARN Utils: Service 'SparkUI' could not bind on port 4040. Attempting port 4041.\n"
     ]
    }
   ],
   "source": [
    "spark = SparkSession.builder.appName(\"get uf\").getOrCreate()"
   ]
  },
  {
   "cell_type": "code",
   "execution_count": 7,
   "metadata": {},
   "outputs": [
    {
     "data": {
      "text/plain": [
       "'2022-01-01 12-32-20'"
      ]
     },
     "execution_count": 7,
     "metadata": {},
     "output_type": "execute_result"
    }
   ],
   "source": [
    "date = datetime.strftime(datetime(2022,1,1,12,32,20), '%Y-%m-%d %H-%M-%S')\n",
    "date"
   ]
  },
  {
   "cell_type": "code",
   "execution_count": 51,
   "metadata": {},
   "outputs": [],
   "source": [
    "df = spark.read.parquet('/home/guilherme.cunha/Área de Trabalho/WORKSPACE/Compass/Testes/teste')"
   ]
  },
  {
   "cell_type": "code",
   "execution_count": 21,
   "metadata": {},
   "outputs": [
    {
     "name": "stdout",
     "output_type": "stream",
     "text": [
      "+-----------------+-----------+------------------+----+-----+--------------------+\n",
      "|qt_votos_nominais|total_votos|       porcentagem|year|sg_uf|        nm_candidato|\n",
      "+-----------------+-----------+------------------+----+-----+--------------------+\n",
      "|          4156217|    9560111| 43.47456844381828|2022|   RJ|LUIZ INACIO LULA ...|\n",
      "|          4156217|    9560111| 43.47456844381828|2022|   RJ|LUIZ INACIO LULA ...|\n",
      "|           802502|    2404455| 33.37562982047907|2022|   PB|JAIR MESSIAS BOLS...|\n",
      "|           802502|    2404455| 33.37562982047907|2022|   PB|JAIR MESSIAS BOLS...|\n",
      "|           467065|    2018448| 23.13980840725151|2022|   PI|JAIR MESSIAS BOLS...|\n",
      "|           467065|    2018448| 23.13980840725151|2022|   PI|JAIR MESSIAS BOLS...|\n",
      "|           200547|     390465| 51.36106949406477|2022|   AP|JAIR MESSIAS BOLS...|\n",
      "|           200547|     390465| 51.36106949406477|2022|   AP|JAIR MESSIAS BOLS...|\n",
      "|          3640933|    5439765| 66.93180679680097|2022|   PE|LUIZ INACIO LULA ...|\n",
      "|          3640933|    5439765| 66.93180679680097|2022|   PE|LUIZ INACIO LULA ...|\n",
      "|          2193041|    3735156|58.713504871014756|2022|   GO|JAIR MESSIAS BOLS...|\n",
      "|          2193041|    3735156|58.713504871014756|2022|   GO|JAIR MESSIAS BOLS...|\n",
      "|           262904|     896140| 29.33738032003928|2022|   RO|LUIZ INACIO LULA ...|\n",
      "|           262904|     896140| 29.33738032003928|2022|   RO|LUIZ INACIO LULA ...|\n",
      "|           287750|     409316| 70.30020815213673|2022|   AC|JAIR MESSIAS BOLS...|\n",
      "|           287750|     409316| 70.30020815213673|2022|   AC|JAIR MESSIAS BOLS...|\n",
      "|            67128|     280646|23.919100931422502|2022|   RR|LUIZ INACIO LULA ...|\n",
      "|            67128|     280646|23.919100931422502|2022|   RR|LUIZ INACIO LULA ...|\n",
      "|           121566|     409316|29.699791847863263|2022|   AC|LUIZ INACIO LULA ...|\n",
      "|           121566|     409316|29.699791847863263|2022|   AC|LUIZ INACIO LULA ...|\n",
      "+-----------------+-----------+------------------+----+-----+--------------------+\n",
      "only showing top 20 rows\n",
      "\n"
     ]
    }
   ],
   "source": [
    "df.show()"
   ]
  },
  {
   "cell_type": "code",
   "execution_count": 52,
   "metadata": {},
   "outputs": [],
   "source": [
    "df = df.withColumn('nm_candidato', \n",
    "                when(df.nm_candidato == 'JAIR MESSIAS BOLSONARO',regexp_replace('nm_candidato','JAIR MESSIAS BOLSONARO','Bolsonaro')) \\\n",
    "                .when(df.nm_candidato == 'LUIZ INACIO LULA DA SILVA',regexp_replace('nm_candidato','LUIZ INACIO LULA DA SILVA','Lula'))    \n",
    "                )"
   ]
  },
  {
   "cell_type": "code",
   "execution_count": 53,
   "metadata": {},
   "outputs": [],
   "source": [
    "df = df.drop_duplicates()"
   ]
  },
  {
   "cell_type": "code",
   "execution_count": 54,
   "metadata": {},
   "outputs": [],
   "source": [
    "from pyspark.sql.window import Window"
   ]
  },
  {
   "cell_type": "code",
   "execution_count": 23,
   "metadata": {},
   "outputs": [],
   "source": []
  },
  {
   "cell_type": "code",
   "execution_count": 114,
   "metadata": {},
   "outputs": [
    {
     "name": "stdout",
     "output_type": "stream",
     "text": [
      "+-----------------+-----------+-----------------+----+-----+------------+\n",
      "|qt_votos_nominais|total_votos|      porcentagem|year|sg_uf|nm_candidato|\n",
      "+-----------------+-----------+-----------------+----+-----+------------+\n",
      "|          5403894|    9560111|56.52543155618172|2022|   RJ|   Bolsonaro|\n",
      "+-----------------+-----------+-----------------+----+-----+------------+\n",
      "\n"
     ]
    }
   ],
   "source": [
    "df.where(df.sg_uf == 'RJ').show()"
   ]
  },
  {
   "cell_type": "code",
   "execution_count": 55,
   "metadata": {},
   "outputs": [],
   "source": [
    "percent_uf = Window.partitionBy(\"sg_uf\").orderBy(col(\"porcentagem\").desc())"
   ]
  },
  {
   "cell_type": "code",
   "execution_count": 58,
   "metadata": {},
   "outputs": [],
   "source": [
    "df = df.withColumn(\"row\",row_number().over(percent_uf)) \\\n",
    "  .filter(col(\"row\") == 1).drop(\"row\")"
   ]
  },
  {
   "cell_type": "code",
   "execution_count": 116,
   "metadata": {},
   "outputs": [
    {
     "name": "stdout",
     "output_type": "stream",
     "text": [
      "+-----------------+-----------+------------------+----+-----+------------+\n",
      "|qt_votos_nominais|total_votos|       porcentagem|year|sg_uf|nm_candidato|\n",
      "+-----------------+-----------+------------------+----+-----+------------+\n",
      "|           287750|     409316| 70.30020815213673|2022|   AC|   Bolsonaro|\n",
      "|           976831|    1664658| 58.68058183723023|2022|   AL|        Lula|\n",
      "|          1004991|    1966732| 51.09953974410342|2022|   AM|        Lula|\n",
      "|           200547|     390465| 51.36106949406477|2022|   AP|   Bolsonaro|\n",
      "|          6097815|    8454843| 72.12215531382428|2022|   BA|        Lula|\n",
      "|          3807891|    5442368| 69.96753986499994|2022|   CE|        Lula|\n",
      "|          1041331|    1770626|58.811459901752265|2022|   DF|   Bolsonaro|\n",
      "|          1282145|    2208912| 58.04418645921612|2022|   ES|   Bolsonaro|\n",
      "|          2193041|    3735156|58.713504871014756|2022|   GO|   Bolsonaro|\n",
      "|          2668425|    3751174|  71.1357297741987|2022|   MA|        Lula|\n",
      "|          6190960|   12332270| 50.20130113920633|2022|   MG|        Lula|\n",
      "|           880606|    1480153|59.494254985802144|2022|   MS|   Bolsonaro|\n",
      "|          1216730|    1869516|  65.0826203145627|2022|   MT|   Bolsonaro|\n",
      "|          2509084|    4582979|54.747883418187165|2022|   PA|        Lula|\n",
      "|          1601953|    2404455| 66.62437017952094|2022|   PB|        Lula|\n",
      "|          3640933|    5439765| 66.93180679680097|2022|   PE|        Lula|\n",
      "|          1551383|    2018448| 76.86019159274849|2022|   PI|        Lula|\n",
      "|          4159343|    6665948| 62.39687138273506|2022|   PR|   Bolsonaro|\n",
      "|          5403894|    9560111| 56.52543155618172|2022|   RJ|   Bolsonaro|\n",
      "|          1326785|    2038166| 65.09700387505238|2022|   RN|        Lula|\n",
      "+-----------------+-----------+------------------+----+-----+------------+\n",
      "only showing top 20 rows\n",
      "\n"
     ]
    }
   ],
   "source": [
    "df.show()"
   ]
  },
  {
   "cell_type": "code",
   "execution_count": 135,
   "metadata": {},
   "outputs": [],
   "source": [
    "sent = spark.read.parquet('/home/guilherme.cunha/Área de Trabalho/WORKSPACE/Compass/Testes/ufs')"
   ]
  },
  {
   "cell_type": "code",
   "execution_count": 136,
   "metadata": {},
   "outputs": [
    {
     "name": "stdout",
     "output_type": "stream",
     "text": [
      "+--------------------+-------------------+-------------------+--------------------+----------+---------+--------------------+------+-----+---+----+---------+---------+\n",
      "|                 geo|                 id|         tweet_date|          tweet_text|sentimento|pontuacao|              cidade|  pais|month|day|year|       uf|candidato|\n",
      "+--------------------+-------------------+-------------------+--------------------+----------+---------+--------------------+------+-----+---+----+---------+---------+\n",
      "|   Sao Paulo, Brazil|1597943225108418560|2022-11-30 13:18:47|@belloniviviane @...|  negativo|  -0.6808|           Sao Paulo|Brazil|   11| 30|2022|São Paulo|Bolsonaro|\n",
      "|    Sorocaba, Brasil|1597943534434549761|2022-11-30 13:20:01|@kimpaim bela fot...|  positivo|    0.296|            Sorocaba|Brasil|   11| 30|2022|São Paulo|Bolsonaro|\n",
      "|São José do Rio P...|1597943708707852289|2022-11-30 13:20:43|@luizpatriota39 a...|  negativo|   -0.296|São José do Rio P...|Brasil|   11| 30|2022|São Paulo|Bolsonaro|\n",
      "| Santo André, Brasil|1597943718631591936|2022-11-30 13:20:45|@brom_elisa estam...|  negativo|  -0.6124|         Santo André|Brasil|   11| 30|2022|São Paulo|Bolsonaro|\n",
      "|   Sao Paulo, Brazil|1597944059582029824|2022-11-30 13:22:06|@rayssa_lari @_tv...|  negativo|  -0.0772|           Sao Paulo|Brazil|   11| 30|2022|São Paulo|Bolsonaro|\n",
      "|   Sao Paulo, Brazil|1597944141182537729|2022-11-30 13:22:26|@uolnoticias 🤢🤢...|    neutro|        0|           Sao Paulo|Brazil|   11| 30|2022|São Paulo|Bolsonaro|\n",
      "|   Sao Paulo, Brazil|1597944702254600193|2022-11-30 13:24:40|acha?  é certeza ...|  positivo|   0.3786|           Sao Paulo|Brazil|   11| 30|2022|São Paulo|Bolsonaro|\n",
      "|   Sao Paulo, Brazil|1597944740728954881|2022-11-30 13:24:49|https://t.co/ufsm...|    neutro|        0|           Sao Paulo|Brazil|   11| 30|2022|São Paulo|Bolsonaro|\n",
      "|   Sao Paulo, Brazil|1597944790796337154|2022-11-30 13:25:01|@brasil247 então ...|    neutro|        0|           Sao Paulo|Brazil|   11| 30|2022|São Paulo|Bolsonaro|\n",
      "|   Guarulhos, Brasil|1597944802964045826|2022-11-30 13:25:04|senador @fabiowof...|  negativo|  -0.7772|           Guarulhos|Brasil|   11| 30|2022|São Paulo|Bolsonaro|\n",
      "|Bragança Paulista...|1597945169504260097|2022-11-30 13:26:31|@adilsonesp https...|    neutro|        0|   Bragança Paulista|Brasil|   11| 30|2022|São Paulo|Bolsonaro|\n",
      "|Bragança Paulista...|1597945202249175041|2022-11-30 13:26:39|@adilsonesp https...|    neutro|        0|   Bragança Paulista|Brasil|   11| 30|2022|São Paulo|Bolsonaro|\n",
      "|Bragança Paulista...|1597945243503951873|2022-11-30 13:26:49|@adilsonesp https...|    neutro|        0|   Bragança Paulista|Brasil|   11| 30|2022|São Paulo|Bolsonaro|\n",
      "|Bragança Paulista...|1597945264840781825|2022-11-30 13:26:54|@adilsonesp https...|    neutro|        0|   Bragança Paulista|Brasil|   11| 30|2022|São Paulo|Bolsonaro|\n",
      "|    Campinas, Brasil|1597945366007394305|2022-11-30 13:27:18|@ninhaska @alexan...|  positivo|   0.6705|            Campinas|Brasil|   11| 30|2022|São Paulo|Bolsonaro|\n",
      "|   Sao Paulo, Brazil|1597945422710198272|2022-11-30 13:27:31|@octavio_guedes @...|  positivo|   0.3182|           Sao Paulo|Brazil|   11| 30|2022|São Paulo|Bolsonaro|\n",
      "| São Vicente, Brasil|1597945898574655489|2022-11-30 13:29:25|@lilovlog todas a...|  negativo|  -0.5423|         São Vicente|Brasil|   11| 30|2022|São Paulo|Bolsonaro|\n",
      "|     Jacareí, Brasil|1597945967537688578|2022-11-30 13:29:41|bolsonaro é homem...|  negativo|  -0.2263|             Jacareí|Brasil|   11| 30|2022|São Paulo|Bolsonaro|\n",
      "|   Sao Paulo, Brazil|1597946118843006978|2022-11-30 13:30:17|essa analogia per...|  positivo|     0.34|           Sao Paulo|Brazil|   11| 30|2022|São Paulo|Bolsonaro|\n",
      "|Taboão da Serra, ...|1597946222694006784|2022-11-30 13:30:42|@uolnoticias amém 🙏|    neutro|        0|     Taboão da Serra|Brasil|   11| 30|2022|São Paulo|Bolsonaro|\n",
      "+--------------------+-------------------+-------------------+--------------------+----------+---------+--------------------+------+-----+---+----+---------+---------+\n",
      "only showing top 20 rows\n",
      "\n"
     ]
    }
   ],
   "source": [
    "sent.show()"
   ]
  },
  {
   "cell_type": "code",
   "execution_count": 137,
   "metadata": {},
   "outputs": [],
   "source": [
    "teste = sent.groupBy(['candidato','uf','sentimento']).agg(count('sentimento')).withColumnRenamed(\"count(sentimento)\", \"total_sentimento\")"
   ]
  },
  {
   "cell_type": "code",
   "execution_count": 138,
   "metadata": {},
   "outputs": [],
   "source": [
    "temp = teste.groupBy(['candidato','uf']).agg(sum('total_sentimento')).withColumnRenamed('sum(total_sentimento)','total_uf')\n",
    "temp = temp.withColumnRenamed(\"uf\", \"uf_drop\").withColumnRenamed('candidato','candidato_drop')"
   ]
  },
  {
   "cell_type": "code",
   "execution_count": 139,
   "metadata": {},
   "outputs": [
    {
     "name": "stdout",
     "output_type": "stream",
     "text": [
      "+--------------+------------------+--------+\n",
      "|candidato_drop|           uf_drop|total_uf|\n",
      "+--------------+------------------+--------+\n",
      "|          Lula|  Distrito Federal|      60|\n",
      "|     Bolsonaro|              erro|      23|\n",
      "|     Bolsonaro|        Pernambuco|      58|\n",
      "|          Lula|           Alagoas|      12|\n",
      "|     Bolsonaro|             Piauí|      29|\n",
      "|     Bolsonaro|    Espírito Santo|      31|\n",
      "|     Bolsonaro|             Ceará|      64|\n",
      "|          Lula|             Goiás|      38|\n",
      "|     Bolsonaro|           Sergipe|      15|\n",
      "|          Lula|             Bahia|      32|\n",
      "|     Bolsonaro|         Tocantins|      12|\n",
      "|          Lula|          Maranhão|      11|\n",
      "|     Bolsonaro|  Distrito Federal|      86|\n",
      "|     Bolsonaro|Mato Grosso do Sul|      44|\n",
      "|     Bolsonaro|           Roraima|       3|\n",
      "|          Lula|    Santa Catarina|      59|\n",
      "|     Bolsonaro|         São Paulo|     630|\n",
      "|     Bolsonaro|          Amazonas|      41|\n",
      "|     Bolsonaro|             Bahia|      45|\n",
      "|          Lula|              erro|      15|\n",
      "+--------------+------------------+--------+\n",
      "only showing top 20 rows\n",
      "\n"
     ]
    }
   ],
   "source": [
    "temp.show()"
   ]
  },
  {
   "cell_type": "code",
   "execution_count": 150,
   "metadata": {},
   "outputs": [],
   "source": [
    "final = teste.join(temp, [teste.uf == temp.uf_drop, teste.candidato == temp.candidato_drop],'left').drop('uf_drop','candidato_drop')"
   ]
  },
  {
   "cell_type": "code",
   "execution_count": 141,
   "metadata": {},
   "outputs": [
    {
     "name": "stdout",
     "output_type": "stream",
     "text": [
      "root\n",
      " |-- candidato: string (nullable = true)\n",
      " |-- uf: string (nullable = true)\n",
      " |-- sentimento: string (nullable = true)\n",
      " |-- total_sentimento: long (nullable = false)\n",
      " |-- total_uf: long (nullable = true)\n",
      "\n"
     ]
    }
   ],
   "source": [
    "final.printSchema()"
   ]
  },
  {
   "cell_type": "code",
   "execution_count": 142,
   "metadata": {},
   "outputs": [
    {
     "name": "stdout",
     "output_type": "stream",
     "text": [
      "+---------+----------------+----------+----------------+--------+\n",
      "|candidato|              uf|sentimento|total_sentimento|total_uf|\n",
      "+---------+----------------+----------+----------------+--------+\n",
      "|Bolsonaro|Distrito Federal|  positivo|              14|      86|\n",
      "|Bolsonaro|Distrito Federal|    neutro|              46|      86|\n",
      "|Bolsonaro|Distrito Federal|  negativo|              26|      86|\n",
      "|     Lula|Distrito Federal|  negativo|              26|      60|\n",
      "|     Lula|Distrito Federal|  positivo|               6|      60|\n",
      "|     Lula|Distrito Federal|    neutro|              28|      60|\n",
      "+---------+----------------+----------+----------------+--------+\n",
      "\n"
     ]
    }
   ],
   "source": [
    "final.where(final.uf == 'Distrito Federal').show()"
   ]
  },
  {
   "cell_type": "code",
   "execution_count": 151,
   "metadata": {},
   "outputs": [],
   "source": [
    "final = final.withColumn('porcentagem', (col('total_sentimento') * 100)/col('total_uf'))"
   ]
  },
  {
   "cell_type": "code",
   "execution_count": 152,
   "metadata": {},
   "outputs": [
    {
     "name": "stderr",
     "output_type": "stream",
     "text": [
      "[Stage 301:=======>                                                 (1 + 7) / 8]\r"
     ]
    },
    {
     "name": "stdout",
     "output_type": "stream",
     "text": [
      "+---------+-----------------+----------+----------------+--------+------------------+\n",
      "|candidato|               uf|sentimento|total_sentimento|total_uf|       porcentagem|\n",
      "+---------+-----------------+----------+----------------+--------+------------------+\n",
      "|Bolsonaro|   Rio de Janeiro|    neutro|             203|     417|  48.6810551558753|\n",
      "|Bolsonaro|           Paraná|  negativo|              22|      95|23.157894736842106|\n",
      "|Bolsonaro|   Rio de Janeiro|  positivo|              72|     417| 17.26618705035971|\n",
      "|Bolsonaro|     Minas Gerais|  positivo|              32|     177| 18.07909604519774|\n",
      "|Bolsonaro|           Paraná|  positivo|              27|      95| 28.42105263157895|\n",
      "|     Lula|     Minas Gerais|    neutro|              52|     107|48.598130841121495|\n",
      "|     Lula|        São Paulo|  negativo|             112|     370| 30.27027027027027|\n",
      "|Bolsonaro|           Paraná|    neutro|              46|      95|48.421052631578945|\n",
      "|     Lula|     Minas Gerais|  positivo|              26|     107|24.299065420560748|\n",
      "|     Lula|        São Paulo|    neutro|             187|     370| 50.54054054054054|\n",
      "|     Lula|   Santa Catarina|  negativo|              12|      59|20.338983050847457|\n",
      "|     Lula|   Rio de Janeiro|    neutro|             145|     227| 63.87665198237885|\n",
      "|Bolsonaro|     Minas Gerais|    neutro|              99|     177|55.932203389830505|\n",
      "|     Lula|   Rio de Janeiro|  positivo|              30|     227|13.215859030837004|\n",
      "|Bolsonaro|            Goiás|    neutro|              18|      57| 31.57894736842105|\n",
      "|Bolsonaro|Rio Grande do Sul|  positivo|              24|     136|17.647058823529413|\n",
      "|Bolsonaro|        São Paulo|  positivo|             114|     630|18.095238095238095|\n",
      "|Bolsonaro|        São Paulo|    neutro|             320|     630| 50.79365079365079|\n",
      "|Bolsonaro|   Santa Catarina|  negativo|              26|      91|28.571428571428573|\n",
      "|Bolsonaro|     Minas Gerais|  negativo|              46|     177| 25.98870056497175|\n",
      "+---------+-----------------+----------+----------------+--------+------------------+\n",
      "only showing top 20 rows\n",
      "\n"
     ]
    },
    {
     "name": "stderr",
     "output_type": "stream",
     "text": [
      "                                                                                \r"
     ]
    }
   ],
   "source": [
    "final.show()"
   ]
  },
  {
   "cell_type": "code",
   "execution_count": 153,
   "metadata": {},
   "outputs": [],
   "source": [
    "percent_uf = Window.partitionBy(\"uf\").orderBy(col(\"porcentagem\").desc())"
   ]
  },
  {
   "cell_type": "code",
   "execution_count": 154,
   "metadata": {},
   "outputs": [],
   "source": [
    "final = final.where(final.sentimento == 'negativo')"
   ]
  },
  {
   "cell_type": "code",
   "execution_count": 155,
   "metadata": {},
   "outputs": [],
   "source": [
    "final = final.withColumn(\"row\",row_number().over(percent_uf)) \\\n",
    "  .filter(col(\"row\") == 1).drop(\"row\")"
   ]
  },
  {
   "cell_type": "code",
   "execution_count": 156,
   "metadata": {},
   "outputs": [
    {
     "name": "stdout",
     "output_type": "stream",
     "text": [
      "+---------+-------------------+----------+----------------+--------+------------------+\n",
      "|candidato|                 uf|sentimento|total_sentimento|total_uf|       porcentagem|\n",
      "+---------+-------------------+----------+----------------+--------+------------------+\n",
      "|     Lula|               Acre|  negativo|               1|       4|              25.0|\n",
      "|Bolsonaro|            Alagoas|  negativo|               5|      18| 27.77777777777778|\n",
      "|Bolsonaro|              Amapá|  negativo|               2|       8|              25.0|\n",
      "|Bolsonaro|           Amazonas|  negativo|              12|      41| 29.26829268292683|\n",
      "|     Lula|              Bahia|  negativo|              10|      32|             31.25|\n",
      "|Bolsonaro|              Ceará|  negativo|              21|      64|           32.8125|\n",
      "|     Lula|   Distrito Federal|  negativo|              26|      60|43.333333333333336|\n",
      "|     Lula|     Espírito Santo|  negativo|              10|      29| 34.48275862068966|\n",
      "|Bolsonaro|              Goiás|  negativo|              27|      57| 47.36842105263158|\n",
      "|     Lula|           Maranhão|  negativo|               6|      11| 54.54545454545455|\n",
      "|Bolsonaro|        Mato Grosso|  negativo|              14|      53| 26.41509433962264|\n",
      "|Bolsonaro| Mato Grosso do Sul|  negativo|              20|      44| 45.45454545454545|\n",
      "|     Lula|       Minas Gerais|  negativo|              29|     107|27.102803738317757|\n",
      "|     Lula|             Paraná|  negativo|              18|      52| 34.61538461538461|\n",
      "|     Lula|            Paraíba|  negativo|              12|      24|              50.0|\n",
      "|Bolsonaro|               Pará|  negativo|              12|      45|26.666666666666668|\n",
      "|Bolsonaro|         Pernambuco|  negativo|              18|      58| 31.03448275862069|\n",
      "|Bolsonaro|              Piauí|  negativo|              11|      29| 37.93103448275862|\n",
      "|     Lula|Rio Grande do Norte|  negativo|               3|       9|33.333333333333336|\n",
      "|Bolsonaro|  Rio Grande do Sul|  negativo|              48|     136|35.294117647058826|\n",
      "+---------+-------------------+----------+----------------+--------+------------------+\n",
      "only showing top 20 rows\n",
      "\n"
     ]
    }
   ],
   "source": [
    "final.show()"
   ]
  },
  {
   "cell_type": "code",
   "execution_count": null,
   "metadata": {},
   "outputs": [],
   "source": []
  }
 ],
 "metadata": {
  "kernelspec": {
   "display_name": "Python 3.10.8 64-bit",
   "language": "python",
   "name": "python3"
  },
  "language_info": {
   "codemirror_mode": {
    "name": "ipython",
    "version": 3
   },
   "file_extension": ".py",
   "mimetype": "text/x-python",
   "name": "python",
   "nbconvert_exporter": "python",
   "pygments_lexer": "ipython3",
   "version": "3.10.8"
  },
  "orig_nbformat": 4,
  "vscode": {
   "interpreter": {
    "hash": "7d6993cb2f9ce9a59d5d7380609d9cb5192a9dedd2735a011418ad9e827eb538"
   }
  }
 },
 "nbformat": 4,
 "nbformat_minor": 2
}
