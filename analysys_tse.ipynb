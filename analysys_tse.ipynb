{
 "cells": [
  {
   "cell_type": "code",
   "execution_count": 3,
   "metadata": {},
   "outputs": [],
   "source": [
    "from pyspark.sql import SparkSession\n",
    "from pyspark.sql.types import *\n",
    "from pyspark.sql.functions import *"
   ]
  },
  {
   "cell_type": "code",
   "execution_count": 4,
   "metadata": {},
   "outputs": [
    {
     "name": "stderr",
     "output_type": "stream",
     "text": [
      "Setting default log level to \"WARN\".\n",
      "To adjust logging level use sc.setLogLevel(newLevel). For SparkR, use setLogLevel(newLevel).\n"
     ]
    },
    {
     "name": "stdout",
     "output_type": "stream",
     "text": [
      "22/12/08 07:52:44 WARN NativeCodeLoader: Unable to load native-hadoop library for your platform... using builtin-java classes where applicable\n"
     ]
    }
   ],
   "source": [
    "spark = SparkSession.builder.appName(\"Refine tse 2022\").getOrCreate()"
   ]
  },
  {
   "cell_type": "code",
   "execution_count": 14,
   "metadata": {},
   "outputs": [],
   "source": [
    "df = spark.read.csv('/home/guilherme.cunha/Área de Trabalho/WORKSPACE/Compass/Testes/2022.csv', header=True, inferSchema=True,sep=';')"
   ]
  },
  {
   "cell_type": "code",
   "execution_count": 8,
   "metadata": {},
   "outputs": [
    {
     "name": "stdout",
     "output_type": "stream",
     "text": [
      "+-----+--------+----------+--------------------+-----------------+-------------------+\n",
      "|sg_uf|nr_turno|  ds_cargo|        nm_candidato|qt_votos_nominais|           dt_carga|\n",
      "+-----+--------+----------+--------------------+-----------------+-------------------+\n",
      "|   AC|       2|Presidente|JAIR MESSIAS BOLS...|           287750|2022-11-27 18:56:18|\n",
      "|   AC|       2|Presidente|LUIZ INACIO LULA ...|           121566|2022-11-27 18:56:18|\n",
      "|   AL|       2|Presidente|JAIR MESSIAS BOLS...|           687827|2022-11-27 18:56:18|\n",
      "|   AL|       2|Presidente|LUIZ INACIO LULA ...|           976831|2022-11-27 18:56:18|\n",
      "|   AM|       2|Presidente|JAIR MESSIAS BOLS...|           961741|2022-11-27 18:56:18|\n",
      "|   AM|       2|Presidente|LUIZ INACIO LULA ...|          1004991|2022-11-27 18:56:18|\n",
      "|   AP|       2|Presidente|JAIR MESSIAS BOLS...|           200547|2022-11-27 18:56:18|\n",
      "|   AP|       2|Presidente|LUIZ INACIO LULA ...|           189918|2022-11-27 18:56:18|\n",
      "|   BA|       2|Presidente|JAIR MESSIAS BOLS...|          2357028|2022-11-27 18:56:18|\n",
      "|   BA|       2|Presidente|LUIZ INACIO LULA ...|          6097815|2022-11-27 18:56:18|\n",
      "|   CE|       2|Presidente|JAIR MESSIAS BOLS...|          1634477|2022-11-27 18:56:18|\n",
      "|   CE|       2|Presidente|LUIZ INACIO LULA ...|          3807891|2022-11-27 18:56:18|\n",
      "|   DF|       2|Presidente|JAIR MESSIAS BOLS...|          1041331|2022-11-27 18:56:18|\n",
      "|   DF|       2|Presidente|LUIZ INACIO LULA ...|           729295|2022-11-27 18:56:18|\n",
      "|   ES|       2|Presidente|JAIR MESSIAS BOLS...|          1282145|2022-11-27 18:56:18|\n",
      "|   ES|       2|Presidente|LUIZ INACIO LULA ...|           926767|2022-11-27 18:56:18|\n",
      "|   GO|       2|Presidente|JAIR MESSIAS BOLS...|          2193041|2022-11-27 18:56:18|\n",
      "|   GO|       2|Presidente|LUIZ INACIO LULA ...|          1542115|2022-11-27 18:56:18|\n",
      "|   MA|       2|Presidente|JAIR MESSIAS BOLS...|          1082749|2022-11-27 18:56:18|\n",
      "|   MA|       2|Presidente|LUIZ INACIO LULA ...|          2668425|2022-11-27 18:56:18|\n",
      "+-----+--------+----------+--------------------+-----------------+-------------------+\n",
      "only showing top 20 rows\n",
      "\n"
     ]
    }
   ],
   "source": [
    "df.show()"
   ]
  },
  {
   "cell_type": "code",
   "execution_count": 15,
   "metadata": {},
   "outputs": [],
   "source": [
    "total = df.groupBy('sg_uf').sum('qt_votos_nominais').withColumnRenamed(\"sum(qt_votos_nominais)\", \"total_votos\").sort('sg_uf')\n",
    "total = total.withColumnRenamed(\"sg_uf\", \"uf_drop\")"
   ]
  },
  {
   "cell_type": "code",
   "execution_count": 16,
   "metadata": {},
   "outputs": [],
   "source": [
    "df = df.join(total, df.sg_uf == total.uf_drop,'left').drop('uf_drop','ds_cargo','dt_carga','nr_turno')"
   ]
  },
  {
   "cell_type": "code",
   "execution_count": 17,
   "metadata": {},
   "outputs": [],
   "source": [
    "df = df.withColumn('porcentagem', (col('qt_votos_nominais') * 100)/col('total_votos')).withColumn('year', lit(2022))"
   ]
  },
  {
   "cell_type": "code",
   "execution_count": 18,
   "metadata": {},
   "outputs": [
    {
     "name": "stdout",
     "output_type": "stream",
     "text": [
      "+-----+--------------------+-----------------+-----------+------------------+----+\n",
      "|sg_uf|        nm_candidato|qt_votos_nominais|total_votos|       porcentagem|year|\n",
      "+-----+--------------------+-----------------+-----------+------------------+----+\n",
      "|   AC|JAIR MESSIAS BOLS...|           287750|     409316| 70.30020815213673|2022|\n",
      "|   AC|LUIZ INACIO LULA ...|           121566|     409316|29.699791847863263|2022|\n",
      "|   AL|JAIR MESSIAS BOLS...|           687827|    1664658| 41.31941816276977|2022|\n",
      "|   AL|LUIZ INACIO LULA ...|           976831|    1664658| 58.68058183723023|2022|\n",
      "|   AM|JAIR MESSIAS BOLS...|           961741|    1966732| 48.90046025589658|2022|\n",
      "|   AM|LUIZ INACIO LULA ...|          1004991|    1966732| 51.09953974410342|2022|\n",
      "|   AP|JAIR MESSIAS BOLS...|           200547|     390465| 51.36106949406477|2022|\n",
      "|   AP|LUIZ INACIO LULA ...|           189918|     390465| 48.63893050593523|2022|\n",
      "|   BA|JAIR MESSIAS BOLS...|          2357028|    8454843| 27.87784468617572|2022|\n",
      "|   BA|LUIZ INACIO LULA ...|          6097815|    8454843| 72.12215531382428|2022|\n",
      "|   CE|JAIR MESSIAS BOLS...|          1634477|    5442368|30.032460135000058|2022|\n",
      "|   CE|LUIZ INACIO LULA ...|          3807891|    5442368| 69.96753986499994|2022|\n",
      "|   DF|JAIR MESSIAS BOLS...|          1041331|    1770626|58.811459901752265|2022|\n",
      "|   DF|LUIZ INACIO LULA ...|           729295|    1770626|41.188540098247735|2022|\n",
      "|   ES|JAIR MESSIAS BOLS...|          1282145|    2208912| 58.04418645921612|2022|\n",
      "|   ES|LUIZ INACIO LULA ...|           926767|    2208912| 41.95581354078388|2022|\n",
      "|   GO|JAIR MESSIAS BOLS...|          2193041|    3735156|58.713504871014756|2022|\n",
      "|   GO|LUIZ INACIO LULA ...|          1542115|    3735156|41.286495128985244|2022|\n",
      "|   MA|JAIR MESSIAS BOLS...|          1082749|    3751174| 28.86427022580131|2022|\n",
      "|   MA|LUIZ INACIO LULA ...|          2668425|    3751174|  71.1357297741987|2022|\n",
      "+-----+--------------------+-----------------+-----------+------------------+----+\n",
      "only showing top 20 rows\n",
      "\n"
     ]
    }
   ],
   "source": [
    "df.show()"
   ]
  },
  {
   "cell_type": "code",
   "execution_count": null,
   "metadata": {},
   "outputs": [],
   "source": [
    "df.withColumn(\"Winner\")"
   ]
  },
  {
   "cell_type": "code",
   "execution_count": 19,
   "metadata": {},
   "outputs": [
    {
     "name": "stderr",
     "output_type": "stream",
     "text": [
      "                                                                                \r"
     ]
    }
   ],
   "source": [
    "df.write.mode(\"append\").partitionBy(\"year\",\"sg_uf\",'nm_candidato') \\\n",
    "    .parquet('/home/guilherme.cunha/Área de Trabalho/WORKSPACE/Compass/Testes/teste')"
   ]
  }
 ],
 "metadata": {
  "kernelspec": {
   "display_name": "Python 3.10.8 64-bit",
   "language": "python",
   "name": "python3"
  },
  "language_info": {
   "codemirror_mode": {
    "name": "ipython",
    "version": 3
   },
   "file_extension": ".py",
   "mimetype": "text/x-python",
   "name": "python",
   "nbconvert_exporter": "python",
   "pygments_lexer": "ipython3",
   "version": "3.10.8"
  },
  "orig_nbformat": 4,
  "vscode": {
   "interpreter": {
    "hash": "7d6993cb2f9ce9a59d5d7380609d9cb5192a9dedd2735a011418ad9e827eb538"
   }
  }
 },
 "nbformat": 4,
 "nbformat_minor": 2
}
