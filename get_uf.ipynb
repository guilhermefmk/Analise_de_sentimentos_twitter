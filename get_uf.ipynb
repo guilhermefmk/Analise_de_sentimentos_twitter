{
 "cells": [
  {
   "cell_type": "code",
   "execution_count": 2,
   "metadata": {},
   "outputs": [
    {
     "name": "stdout",
     "output_type": "stream",
     "text": [
      "Defaulting to user installation because normal site-packages is not writeable\n",
      "Collecting geopy\n",
      "  Using cached geopy-2.3.0-py3-none-any.whl (119 kB)\n",
      "Collecting geographiclib<3,>=1.52\n",
      "  Using cached geographiclib-2.0-py3-none-any.whl (40 kB)\n",
      "Installing collected packages: geographiclib, geopy\n",
      "Successfully installed geographiclib-2.0 geopy-2.3.0\n"
     ]
    }
   ],
   "source": [
    "!pip install geopy"
   ]
  },
  {
   "cell_type": "code",
   "execution_count": 1,
   "metadata": {},
   "outputs": [],
   "source": [
    "from pyspark.sql import SparkSession\n",
    "from pyspark.sql.types import *\n",
    "from pyspark.sql.functions import *\n",
    "from geopy.geocoders import Photon\n",
    "from geopy.extra.rate_limiter import RateLimiter\n",
    "from time import sleep\n",
    "from geopy.exc import GeocoderUnavailable"
   ]
  },
  {
   "cell_type": "code",
   "execution_count": 2,
   "metadata": {},
   "outputs": [
    {
     "name": "stderr",
     "output_type": "stream",
     "text": [
      "Setting default log level to \"WARN\".\n",
      "To adjust logging level use sc.setLogLevel(newLevel). For SparkR, use setLogLevel(newLevel).\n"
     ]
    },
    {
     "name": "stdout",
     "output_type": "stream",
     "text": [
      "22/12/06 07:31:52 WARN NativeCodeLoader: Unable to load native-hadoop library for your platform... using builtin-java classes where applicable\n"
     ]
    }
   ],
   "source": [
    "spark = SparkSession.builder.appName(\"get uf\").getOrCreate()"
   ]
  },
  {
   "cell_type": "code",
   "execution_count": 3,
   "metadata": {},
   "outputs": [],
   "source": [
    "\n",
    "def get_uf(cidade):\n",
    "    states = {'Acre','Alagoas','Amapá','Amazonas','Bahia','Ceará','Distrito Federal',\n",
    "            'Espírito Santo','Goiás','Maranhão','Mato Grosso','Mato Grosso do Sul',\n",
    "            'Minas Gerais','Pará','Paraíba','Paraná','Pernambuco','Piauí',\n",
    "            'Rio de Janeiro','Rio Grande do Norte','Rio Grande do Sul','Rondônia',\n",
    "            'Roraima','Santa Catarina','São Paulo','Sergipe','Tocantins'\n",
    "            }\n",
    "    sleep(1.1)\n",
    "    attempt=1\n",
    "    max_attempts=5\n",
    "    try:\n",
    "        geolocator = Photon()\n",
    "        locate = RateLimiter(geolocator.geocode, min_delay_seconds=1)\n",
    "        adress = locate(cidade)\n",
    "        uf = set(adress[:-1][0].split(', '))\n",
    "        if states.intersection(uf):\n",
    "            attempt=0\n",
    "            return list(states.intersection(uf))[0]\n",
    "        else:\n",
    "            attempt=0\n",
    "            return 'erro'\n",
    "    except GeocoderUnavailable:\n",
    "        if attempt <= max_attempts:\n",
    "            attempt+=1\n",
    "            return get_uf(cidade)\n",
    "        raise\n"
   ]
  },
  {
   "cell_type": "code",
   "execution_count": 4,
   "metadata": {},
   "outputs": [
    {
     "name": "stderr",
     "output_type": "stream",
     "text": [
      "                                                                                \r"
     ]
    }
   ],
   "source": [
    "dados = spark.read.json('/home/guilherme.cunha/Área de Trabalho/WORKSPACE/Compass/Testes/a', multiLine=True)"
   ]
  },
  {
   "cell_type": "code",
   "execution_count": 5,
   "metadata": {},
   "outputs": [],
   "source": [
    "def analyser(text):\n",
    "    import requests\n",
    "    import nltk\n",
    "    from nltk.sentiment.vader import SentimentIntensityAnalyzer\n",
    "    nltk.download(\"vader_lexicon\")\n",
    "    link = 'https://raw.githubusercontent.com/rafjaa/LeIA/master/lexicons/vader_lexicon_ptbr.txt'\n",
    "    req = requests.get(link)\n",
    "    req = req.text\n",
    "    lista = req.split('\\n')\n",
    "    lista.pop()\n",
    "    dicionario = {}\n",
    "    for linha in lista:\n",
    "        linha = linha.split('\\t')\n",
    "        dicionario[linha[0]]= float(linha[1])\n",
    "    sent_analyzer = SentimentIntensityAnalyzer()\n",
    "    sent_analyzer.lexicon.update(dicionario)\n",
    "    result_dict = sent_analyzer.polarity_scores(text)\n",
    "    # result = 'positivo' if result_dict['compound'] > 0 else('negativo' if result_dict['compound'] < 0 else 'neutro')\n",
    "    return result_dict['compound']"
   ]
  },
  {
   "cell_type": "code",
   "execution_count": 6,
   "metadata": {},
   "outputs": [],
   "source": [
    "analyze = udf(analyser, FloatType())\n",
    "getuf = udf(get_uf, StringType())"
   ]
  },
  {
   "cell_type": "code",
   "execution_count": 7,
   "metadata": {},
   "outputs": [],
   "source": [
    "dados = dados.select('*').withColumn(\n",
    "        'tweet_text',lower('tweet_text')\n",
    ").withColumn(\n",
    "    'sentimento', when(\n",
    "        analyze('tweet_text') > 0 , 'positivo'\n",
    "    ).when(\n",
    "        analyze('tweet_text') < 0 , 'negativo'\n",
    "    ).when(\n",
    "        analyze('tweet_text') == 0 , 'neutro'\n",
    "    )\n",
    ").withColumn('pontuacao',\n",
    "    when(\n",
    "       col('sentimento') == 'neutro', '0' \n",
    "    ).otherwise(\n",
    "        analyze('tweet_text')\n",
    "    )\n",
    ").withColumn(\n",
    "    'cidade', split(col('geo'),', ')[0]\n",
    ").withColumn(\n",
    "    'pais', split(col('geo'),', ')[1])"
   ]
  },
  {
   "cell_type": "code",
   "execution_count": 8,
   "metadata": {},
   "outputs": [],
   "source": [
    "dados = dados.where(col('pais').isNotNull())"
   ]
  },
  {
   "cell_type": "code",
   "execution_count": 9,
   "metadata": {},
   "outputs": [],
   "source": [
    "dados = dados.withColumn(\"year\", date_format(col(\"tweet_date\"), \"yyyy\")) \\\n",
    "            .withColumn(\"month\", date_format(col(\"tweet_date\"), \"MM\")) \\\n",
    "            .withColumn(\"day\", date_format(col(\"tweet_date\"), \"dd\")) \\\n",
    "            .withColumn('tweet_text', regexp_replace('tweet_text','\\n',' '))"
   ]
  },
  {
   "cell_type": "code",
   "execution_count": null,
   "metadata": {},
   "outputs": [
    {
     "name": "stderr",
     "output_type": "stream",
     "text": [
      "[Stage 2:>                                                          (0 + 1) / 1]\r"
     ]
    },
    {
     "name": "stdout",
     "output_type": "stream",
     "text": [
      "+---------+--------------------+-------------------+-------------------+--------------------+----------+---------+--------------------+------+----+-----+---+\n",
      "|candidato|                 geo|                 id|         tweet_date|          tweet_text|sentimento|pontuacao|              cidade|  pais|year|month|day|\n",
      "+---------+--------------------+-------------------+-------------------+--------------------+----------+---------+--------------------+------+----+-----+---+\n",
      "|Bolsonaro|   Sao Paulo, Brazil|1597943225108418560|2022-11-30 13:18:47|@belloniviviane @...|  negativo|  -0.6808|           Sao Paulo|Brazil|2022|   11| 30|\n",
      "|Bolsonaro|    Brasília, Brazil|1597943253797867522|2022-11-30 13:18:54|@vanessnnavarro @...|  positivo|   0.6369|            Brasília|Brazil|2022|   11| 30|\n",
      "|Bolsonaro|Rio de Janeiro, B...|1597943318390132736|2022-11-30 13:19:10|@folha dispara na...|    neutro|        0|      Rio de Janeiro|Brazil|2022|   11| 30|\n",
      "|Bolsonaro|São Leopoldo, Brasil|1597943333078593537|2022-11-30 13:19:13|pois então https:...|    neutro|        0|        São Leopoldo|Brasil|2022|   11| 30|\n",
      "|Bolsonaro|Rio de Janeiro, B...|1597943391693963265|2022-11-30 13:19:27|@direitasiqueira ...|    neutro|        0|      Rio de Janeiro|Brazil|2022|   11| 30|\n",
      "|Bolsonaro|       Belém, Brasil|1597943480822558720|2022-11-30 13:19:48|@senadorhumberto ...|  negativo|  -0.4767|               Belém|Brasil|2022|   11| 30|\n",
      "|Bolsonaro|    Sorocaba, Brasil|1597943534434549761|2022-11-30 13:20:01|@kimpaim bela fot...|  positivo|    0.296|            Sorocaba|Brasil|2022|   11| 30|\n",
      "|Bolsonaro|Rio de Janeiro, B...|1597943676755316736|2022-11-30 13:20:35|@heldersalomao qu...|    neutro|        0|      Rio de Janeiro|Brazil|2022|   11| 30|\n",
      "|Bolsonaro|São José do Rio P...|1597943708707852289|2022-11-30 13:20:43|@luizpatriota39 a...|  negativo|   -0.296|São José do Rio P...|Brasil|2022|   11| 30|\n",
      "|Bolsonaro| Santo André, Brasil|1597943718631591936|2022-11-30 13:20:45|@brom_elisa estam...|  negativo|  -0.6124|         Santo André|Brasil|2022|   11| 30|\n",
      "|Bolsonaro|      Maceió, Brazil|1597943756501962752|2022-11-30 13:20:54|@vanessnnavarro h...|    neutro|        0|              Maceió|Brazil|2022|   11| 30|\n",
      "|Bolsonaro|   Itaparica, Brasil|1597943838538358784|2022-11-30 13:21:14|@mauriciocostars ...|  negativo|   -0.296|           Itaparica|Brasil|2022|   11| 30|\n",
      "|Bolsonaro|  Uberlândia, Brasil|1597943839204835328|2022-11-30 13:21:14|🇧🇷🇧🇷🇧🇷 http...|    neutro|        0|          Uberlândia|Brasil|2022|   11| 30|\n",
      "|Bolsonaro|Rio de Janeiro, B...|1597943856926195712|2022-11-30 13:21:18|@guilhermeboulos ...|  negativo|  -0.5386|      Rio de Janeiro|Brazil|2022|   11| 30|\n",
      "|Bolsonaro|Castelnaudary, Fr...|1597943876446490625|2022-11-30 13:21:23|@pastormalafaia ô...|    neutro|        0|       Castelnaudary|France|2022|   11| 30|\n",
      "|Bolsonaro|   Sao Paulo, Brazil|1597944059582029824|2022-11-30 13:22:06|@rayssa_lari @_tv...|  negativo|  -0.0772|           Sao Paulo|Brazil|2022|   11| 30|\n",
      "|Bolsonaro|Rio de Janeiro, B...|1597944068809818112|2022-11-30 13:22:09|@renatamaldonad7 ...|  negativo|  -0.4939|      Rio de Janeiro|Brazil|2022|   11| 30|\n",
      "|Bolsonaro|    Londrina, Brasil|1597944103274418177|2022-11-30 13:22:17|dane-se o amor ve...|  positivo|   0.7906|            Londrina|Brasil|2022|   11| 30|\n",
      "|Bolsonaro|   Sao Paulo, Brazil|1597944141182537729|2022-11-30 13:22:26|@uolnoticias 🤢🤢...|    neutro|        0|           Sao Paulo|Brazil|2022|   11| 30|\n",
      "|Bolsonaro|Castelnaudary, Fr...|1597944152594952192|2022-11-30 13:22:29|@pastormalafaia ô...|    neutro|        0|       Castelnaudary|France|2022|   11| 30|\n",
      "+---------+--------------------+-------------------+-------------------+--------------------+----------+---------+--------------------+------+----+-----+---+\n",
      "only showing top 20 rows\n",
      "\n"
     ]
    },
    {
     "name": "stderr",
     "output_type": "stream",
     "text": [
      "                                                                                \r"
     ]
    }
   ],
   "source": [
    "dados.show()"
   ]
  },
  {
   "cell_type": "code",
   "execution_count": 10,
   "metadata": {},
   "outputs": [],
   "source": [
    "dados = dados.where((dados.pais == 'Brasil') | (dados.pais == 'Brazil'))"
   ]
  },
  {
   "cell_type": "code",
   "execution_count": null,
   "metadata": {},
   "outputs": [
    {
     "name": "stdout",
     "output_type": "stream",
     "text": [
      "+------+-----+\n",
      "|  pais|count|\n",
      "+------+-----+\n",
      "|Brasil| 1721|\n",
      "|Brazil| 1905|\n",
      "+------+-----+\n",
      "\n"
     ]
    }
   ],
   "source": [
    "dados.groupBy('pais').count().sort('pais').show()"
   ]
  },
  {
   "cell_type": "code",
   "execution_count": 11,
   "metadata": {},
   "outputs": [],
   "source": [
    "dados = dados.withColumn('uf', getuf(col('geo')))"
   ]
  },
  {
   "cell_type": "code",
   "execution_count": null,
   "metadata": {},
   "outputs": [
    {
     "name": "stderr",
     "output_type": "stream",
     "text": [
      "                                                                                \r"
     ]
    }
   ],
   "source": [
    "dados.write.mode(\"append\").partitionBy(\"year\",\"uf\",'candidato') \\\n",
    "    .parquet('/home/guilhermefmk/Área de Trabalho/WORKSPACE/Compass/Testes/ufs')"
   ]
  },
  {
   "cell_type": "code",
   "execution_count": null,
   "metadata": {},
   "outputs": [],
   "source": [
    "dados.groupBy(['uf','candidato','sentimento']).count().sort('uf').show()"
   ]
  },
  {
   "cell_type": "code",
   "execution_count": 21,
   "metadata": {},
   "outputs": [],
   "source": [
    "final = spark.read.parquet('/home/guilherme.cunha/Área de Trabalho/WORKSPACE/Compass/Testes/ufs')"
   ]
  },
  {
   "cell_type": "code",
   "execution_count": null,
   "metadata": {},
   "outputs": [],
   "source": [
    "def format_date(date):\n",
    "    if date.find(':') != -1:\n",
    "        result = datetime.strftime(datetime.strptime(date,'%Y-%m-%d %H:%M:%S'), '%Y-%m-%d %H:%M:%S')\n",
    "    else:\n",
    "        result = datetime.strftime(datetime.strptime(date,'%Y-%m-%d %H-%M-%S'), '%Y-%m-%d %H:%M:%S')\n",
    "    return result"
   ]
  },
  {
   "cell_type": "code",
   "execution_count": null,
   "metadata": {},
   "outputs": [
    {
     "data": {
      "text/plain": [
       "'2022-12-02 16:18:48'"
      ]
     },
     "execution_count": 381,
     "metadata": {},
     "output_type": "execute_result"
    }
   ],
   "source": [
    "format_date('2022-12-02 16-18-48')"
   ]
  },
  {
   "cell_type": "code",
   "execution_count": null,
   "metadata": {},
   "outputs": [],
   "source": [
    "from datetime import datetime"
   ]
  },
  {
   "cell_type": "code",
   "execution_count": null,
   "metadata": {},
   "outputs": [],
   "source": [
    "getdate = udf(format_date, StringType())"
   ]
  },
  {
   "cell_type": "code",
   "execution_count": null,
   "metadata": {},
   "outputs": [],
   "source": [
    "dados = dados.withColumn('tweet_date', getdate('tweet_date'))"
   ]
  },
  {
   "cell_type": "code",
   "execution_count": null,
   "metadata": {},
   "outputs": [],
   "source": [
    "dados = dados.withColumn(\"tweet_date\", to_timestamp(getdate('tweet_date')))"
   ]
  },
  {
   "cell_type": "code",
   "execution_count": null,
   "metadata": {},
   "outputs": [
    {
     "name": "stdout",
     "output_type": "stream",
     "text": [
      "root\n",
      " |-- candidato: string (nullable = true)\n",
      " |-- geo: string (nullable = true)\n",
      " |-- id: string (nullable = true)\n",
      " |-- tweet_date: timestamp (nullable = true)\n",
      " |-- tweet_text: string (nullable = true)\n",
      "\n"
     ]
    }
   ],
   "source": [
    "dados.printSchema()"
   ]
  },
  {
   "cell_type": "code",
   "execution_count": null,
   "metadata": {},
   "outputs": [
    {
     "name": "stdout",
     "output_type": "stream",
     "text": [
      "+---------+---+---+----------+----------+\n",
      "|candidato|geo| id|tweet_date|tweet_text|\n",
      "+---------+---+---+----------+----------+\n",
      "+---------+---+---+----------+----------+\n",
      "\n"
     ]
    }
   ],
   "source": [
    "dados.where(dados.tweet_date.isNull()).show()"
   ]
  },
  {
   "cell_type": "code",
   "execution_count": 22,
   "metadata": {},
   "outputs": [],
   "source": [
    "final = final.withColumn('pontuacao', col(\"pontuacao\").cast(FloatType()))"
   ]
  },
  {
   "cell_type": "code",
   "execution_count": 24,
   "metadata": {},
   "outputs": [
    {
     "data": {
      "text/plain": [
       "38"
      ]
     },
     "execution_count": 24,
     "metadata": {},
     "output_type": "execute_result"
    }
   ],
   "source": [
    "final.where(final.uf == 'erro').count()"
   ]
  },
  {
   "cell_type": "code",
   "execution_count": 25,
   "metadata": {},
   "outputs": [],
   "source": [
    "final = final.where(final.uf != 'erro')"
   ]
  },
  {
   "cell_type": "code",
   "execution_count": 36,
   "metadata": {},
   "outputs": [],
   "source": [
    "final = final.groupBy(['uf','candidato','sentimento']).agg(count('sentimento').alias('contador'),avg('pontuacao'))"
   ]
  },
  {
   "cell_type": "code",
   "execution_count": 39,
   "metadata": {},
   "outputs": [],
   "source": [
    "final = final.withColumn('year', lit(2022))"
   ]
  },
  {
   "cell_type": "code",
   "execution_count": 41,
   "metadata": {},
   "outputs": [
    {
     "name": "stderr",
     "output_type": "stream",
     "text": [
      "                                                                                \r"
     ]
    }
   ],
   "source": [
    "\n",
    "final.write.mode(\"append\").partitionBy(\"year\",\"candidato\",\"uf\",'sentimento') \\\n",
    "    .parquet('/home/guilherme.cunha/Área de Trabalho/WORKSPACE/Compass/Testes/teste')"
   ]
  },
  {
   "cell_type": "code",
   "execution_count": 42,
   "metadata": {},
   "outputs": [],
   "source": [
    "sad = spark.read.parquet('/home/guilherme.cunha/Área de Trabalho/WORKSPACE/Compass/Testes/teste')"
   ]
  },
  {
   "cell_type": "code",
   "execution_count": 43,
   "metadata": {},
   "outputs": [
    {
     "name": "stdout",
     "output_type": "stream",
     "text": [
      "+--------+--------------------+----+---------+-----------------+----------+\n",
      "|contador|      avg(pontuacao)|year|candidato|               uf|sentimento|\n",
      "+--------+--------------------+----+---------+-----------------+----------+\n",
      "|       5| 0.47173999547958373|2022|Bolsonaro|   Espírito Santo|  positivo|\n",
      "|      15|-0.47188666462898254|2022|Bolsonaro|          Paraíba|  negativo|\n",
      "|      18|                 0.0|2022|Bolsonaro|          Paraíba|    neutro|\n",
      "|       3|                 0.0|2022|     Lula|         Maranhão|    neutro|\n",
      "|      11|                 0.0|2022|     Lula|      Mato Grosso|    neutro|\n",
      "|       6|-0.43701666096846264|2022|     Lula|         Maranhão|  negativo|\n",
      "|       1|-0.42149999737739563|2022|     Lula|        Tocantins|  negativo|\n",
      "|       1|-0.15309999883174896|2022|     Lula|             Acre|  negativo|\n",
      "|      16|                 0.0|2022|     Lula|            Ceará|    neutro|\n",
      "|       7|-0.34401429125240873|2022|     Lula|            Goiás|  negativo|\n",
      "|       3|-0.45376667380332947|2022|     Lula|             Pará|  negativo|\n",
      "|       3|                 0.0|2022|     Lula|             Acre|    neutro|\n",
      "|       8|  0.2972750039771199|2022|Bolsonaro|       Pernambuco|  positivo|\n",
      "|       3|                 0.0|2022|     Lula|          Sergipe|    neutro|\n",
      "|      15|                 0.0|2022|     Lula|             Pará|    neutro|\n",
      "|      14|  0.3200142862541335|2022|Bolsonaro| Distrito Federal|  positivo|\n",
      "|     114| 0.41678859558152526|2022|Bolsonaro|        São Paulo|  positivo|\n",
      "|      15|                 0.0|2022|Bolsonaro|         Maranhão|    neutro|\n",
      "|      21| -0.5459380958761487|2022|     Lula|Rio Grande do Sul|  negativo|\n",
      "|       4|                 0.0|2022|Bolsonaro|            Amapá|    neutro|\n",
      "+--------+--------------------+----+---------+-----------------+----------+\n",
      "only showing top 20 rows\n",
      "\n"
     ]
    }
   ],
   "source": [
    "sad.show()"
   ]
  },
  {
   "cell_type": "code",
   "execution_count": null,
   "metadata": {},
   "outputs": [],
   "source": [
    "teste = spark.read.json('/home/guilhermefmk/Área de Trabalho/WORKSPACE/Compass/Testes/a/', multiLine=True)"
   ]
  },
  {
   "cell_type": "code",
   "execution_count": null,
   "metadata": {},
   "outputs": [],
   "source": [
    "teste = teste.withColumn(\"year\", date_format(col(\"tweet_date\"), \"yyyy\")) \\\n",
    "            .withColumn(\"month\", date_format(col(\"tweet_date\"), \"MM\")) \\\n",
    "            .withColumn(\"day\", date_format(col(\"tweet_date\"), \"dd\")) \\\n",
    "            .withColumn('tweet_text', regexp_replace('tweet_text','\\n',' '))"
   ]
  },
  {
   "cell_type": "code",
   "execution_count": null,
   "metadata": {},
   "outputs": [],
   "source": [
    "teste = teste.withColumn(\"tweet_date\", date_format(col(\"tweet_date\"), \"yyyy-MM-dd hh:mm:ss\"))"
   ]
  },
  {
   "cell_type": "code",
   "execution_count": null,
   "metadata": {},
   "outputs": [],
   "source": [
    "teste = teste.withColumn(\"tweet_date\",col(\"tweet_date\").cast(TimestampType()))"
   ]
  },
  {
   "cell_type": "code",
   "execution_count": null,
   "metadata": {},
   "outputs": [
    {
     "name": "stdout",
     "output_type": "stream",
     "text": [
      "+---------+---+---+----------+----------+\n",
      "|candidato|geo| id|tweet_date|tweet_text|\n",
      "+---------+---+---+----------+----------+\n",
      "+---------+---+---+----------+----------+\n",
      "\n"
     ]
    }
   ],
   "source": [
    "teste.where(teste.tweet_date.isNull()).show()"
   ]
  },
  {
   "cell_type": "code",
   "execution_count": null,
   "metadata": {},
   "outputs": [
    {
     "name": "stdout",
     "output_type": "stream",
     "text": [
      "+---------+--------------------+-------------------+-------------------+--------------------+\n",
      "|candidato|                 geo|                 id|         tweet_date|          tweet_text|\n",
      "+---------+--------------------+-------------------+-------------------+--------------------+\n",
      "|     Lula| Porto Velho, Brazil|1598293923822465024|2022-12-01 12:32:20|#ForaBolsonaroeSu...|\n",
      "|     Lula|  Imperatriz, Brasil|1598293929551486976|2022-12-01 12:32:22|@JaspionRedPiLLL ...|\n",
      "|     Lula|   Sao Paulo, Brazil|1598293932131385344|2022-12-01 12:32:22|@77_frota Pensei ...|\n",
      "|     Lula|     Caucaia, Brasil|1598293937063542784|2022-12-01 12:32:24|@UOLNoticias Louc...|\n",
      "|     Lula|Rio de Janeiro, B...|1598293951777509380|2022-12-01 12:32:27|@reporterenato @p...|\n",
      "|     Lula| Porto Velho, Brazil|1598293977471496192|2022-12-01 12:32:33|@marcosdgb1 Bando...|\n",
      "|     Lula|   Sao Paulo, Brazil|1598293988838371328|2022-12-01 12:32:36|@MarinaSilva http...|\n",
      "|     Lula| Porto Velho, Brazil|1598294006441848833|2022-12-01 12:32:40|#ForaBolsonaroeSu...|\n",
      "|     Lula|   Sao Paulo, Brazil|1598294014867939331|2022-12-01 12:32:42|  @Fiuzafirmao2 Amém|\n",
      "|     Lula|    Itanhaém, Brasil|1598294012091371521|2022-12-01 12:32:42|Graças a Deus . h...|\n",
      "|     Lula|     Maringá, Brasil|1598294035336425472|2022-12-01 12:32:47|Meu barbeiro fala...|\n",
      "|     Lula| Barra Mansa, Brasil|1598294055909470208|2022-12-01 12:32:52|@UOLNoticias http...|\n",
      "|     Lula|      Osasco, Brasil|1598294058342006785|2022-12-01 12:32:53|@FelipeJernnimo @...|\n",
      "|     Lula|   Fortaleza, Brazil|1598294059453657088|2022-12-01 12:32:53|ALELUIA IRMÃOS 🙏...|\n",
      "|     Lula|Arraial do Cabo, ...|1598294103120236544|2022-12-01 12:33:03|Lembram da rachad...|\n",
      "|     Lula|      Cuiabá, Brazil|1598294108682215424|2022-12-01 12:33:05|@scarletcomunist ...|\n",
      "|     Lula| Mozarlândia, Brasil|1598294111920214016|2022-12-01 12:33:05|30.11.22 Brasil ....|\n",
      "|     Lula|Ribeirão Preto, B...|1598294139585859584|2022-12-01 12:33:12|@brasil247 A vaci...|\n",
      "|     Lula|Rio de Janeiro, B...|1598294137585164290|2022-12-01 12:33:11|@folha Que vida t...|\n",
      "|     Lula|   Sao Paulo, Brazil|1598294182363566081|2022-12-01 12:33:22|#JairSaqueouBrasi...|\n",
      "+---------+--------------------+-------------------+-------------------+--------------------+\n",
      "only showing top 20 rows\n",
      "\n"
     ]
    }
   ],
   "source": [
    "teste.where(teste.candidato == 'Lula').show()"
   ]
  }
 ],
 "metadata": {
  "kernelspec": {
   "display_name": "Python 3.11.0 64-bit",
   "language": "python",
   "name": "python3"
  },
  "language_info": {
   "codemirror_mode": {
    "name": "ipython",
    "version": 3
   },
   "file_extension": ".py",
   "mimetype": "text/x-python",
   "name": "python",
   "nbconvert_exporter": "python",
   "pygments_lexer": "ipython3",
   "version": "3.11.0 (main, Oct 24 2022, 18:26:48) [MSC v.1933 64 bit (AMD64)]"
  },
  "orig_nbformat": 4,
  "vscode": {
   "interpreter": {
    "hash": "310f1cfdf1af3e2113a7dc96ce0e277191874cbe75f889c46a9c0f170be126fd"
   }
  }
 },
 "nbformat": 4,
 "nbformat_minor": 2
}
